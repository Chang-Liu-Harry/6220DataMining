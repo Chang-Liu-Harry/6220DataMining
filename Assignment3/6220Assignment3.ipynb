{
  "cells": [
    {
      "cell_type": "markdown",
      "metadata": {
        "id": "kPt5q27L5557"
      },
      "source": [
        "\n",
        "\n",
        "# Assignment 3\n",
        "Github Link [Github](https://github.com/Chang-Liu-Harry/6220DataMining)"
      ]
    },
    {
      "cell_type": "markdown",
      "metadata": {
        "id": "p0-YhEpP_Ds-"
      },
      "source": [
        "# Setting Up Spark in Colabs\n",
        "\n",
        "## Virtual Machine Setup\n"
      ]
    },
    {
      "cell_type": "code",
      "execution_count": null,
      "metadata": {
        "id": "k-qHai2252mI"
      },
      "outputs": [],
      "source": [
        "#@title Download and install the PySpark packages\n",
        "\n",
        "!pip install pyspark\n",
        "!pip install -U -q PyDrive\n",
        "!apt install openjdk-8-jdk-headless -qq\n",
        "import os\n",
        "os.environ[\"JAVA_HOME\"] = \"/usr/lib/jvm/java-8-openjdk-amd64\""
      ]
    },
    {
      "cell_type": "code",
      "execution_count": 4,
      "metadata": {
        "id": "xu-e7Ph2_ruG"
      },
      "outputs": [],
      "source": [
        "#@title Setup Spark and Data\n",
        "\n",
        "from pyspark.sql import *\n",
        "from pyspark.sql.functions import *\n",
        "from pyspark import SparkContext\n",
        "import pandas as pd\n",
        "\n",
        "# create the Spark Session\n",
        "spark = SparkSession.builder.getOrCreate()\n",
        "\n",
        "# create the Spark Context\n",
        "sc = spark.sparkContext"
      ]
    },
    {
      "cell_type": "markdown",
      "metadata": {
        "id": "CRaF2A_j_nC7"
      },
      "source": [
        "# Friend Recommendation"
      ]
    },
    {
      "cell_type": "code",
      "source": [
        "# Download the txt file\n",
        "!wget -O soc-LiveJournal1Adj.txt 'https://course.ccs.neu.edu/cs6220/fall2023/homework-3/soc-LiveJournal1Adj.txt'\n"
      ],
      "metadata": {
        "id": "v4A-7uiwls5S",
        "colab": {
          "base_uri": "https://localhost:8080/"
        },
        "outputId": "063cb004-6fc2-47e3-f59d-72b28e524047"
      },
      "execution_count": 5,
      "outputs": [
        {
          "output_type": "stream",
          "name": "stdout",
          "text": [
            "--2024-02-14 07:50:12--  https://course.ccs.neu.edu/cs6220/fall2023/homework-3/soc-LiveJournal1Adj.txt\n",
            "Resolving course.ccs.neu.edu (course.ccs.neu.edu)... 129.10.117.35\n",
            "Connecting to course.ccs.neu.edu (course.ccs.neu.edu)|129.10.117.35|:443... connected.\n",
            "HTTP request sent, awaiting response... 200 OK\n",
            "Length: 4156181 (4.0M) [text/plain]\n",
            "Saving to: ‘soc-LiveJournal1Adj.txt’\n",
            "\n",
            "soc-LiveJournal1Adj 100%[===================>]   3.96M  15.3MB/s    in 0.3s    \n",
            "\n",
            "2024-02-14 07:50:13 (15.3 MB/s) - ‘soc-LiveJournal1Adj.txt’ saved [4156181/4156181]\n",
            "\n"
          ]
        }
      ]
    },
    {
      "cell_type": "markdown",
      "source": [
        "Convert the txt to rdd and format the rdd"
      ],
      "metadata": {
        "id": "qAM7mNhYinmi"
      }
    },
    {
      "cell_type": "code",
      "source": [
        "from pyspark import SparkContext\n",
        "sc = SparkContext.getOrCreate()\n",
        "\n",
        "rdd = sc.textFile(\"soc-LiveJournal1Adj.txt\")\n",
        "\n",
        "def parse_line(line):\n",
        "    parts = line.split('\\t')\n",
        "    user = int(parts[0])\n",
        "    friends = parts[1].split(',')\n",
        "    return (user, [int(friend) for friend in friends if friend.isdigit()])\n",
        "\n",
        "user_friends = rdd.map(parse_line)"
      ],
      "metadata": {
        "id": "8Oul1MvFoMRR"
      },
      "execution_count": 6,
      "outputs": []
    },
    {
      "cell_type": "markdown",
      "source": [
        "Any pair in the friends list, have a mutual friend already, which is the user.\n",
        "\n",
        "If we can make this rdd to the pairs of friends, then we can know the count of mutual friends using reduceByKey."
      ],
      "metadata": {
        "id": "YycSWfhNr43W"
      }
    },
    {
      "cell_type": "code",
      "source": [
        "from itertools import combinations\n",
        "\n",
        "mutual_pair = user_friends.flatMap(lambda x: [(tuple(sorted(pair)), 1) for pair in combinations(x[1], 2)])"
      ],
      "metadata": {
        "id": "XqSvyzuojBo2"
      },
      "execution_count": 7,
      "outputs": []
    },
    {
      "cell_type": "markdown",
      "source": [
        "But for those friends pairs, we don't know if they are friends already.\n",
        "If we create another map of those who are already friends, and union the two RDD, we can mark those already friends and filter them out."
      ],
      "metadata": {
        "id": "QgKMH-fusmhB"
      }
    },
    {
      "cell_type": "code",
      "source": [
        "actual_friends = user_friends.flatMap(lambda x: [(tuple(sorted([x[0], f])), float('-inf')) for f in x[1]])\n",
        "all_pairs = mutual_pair.union(actual_friends)\n",
        "mutual_friend_count = all_pairs.reduceByKey(lambda x,y: x + y).filter(lambda x: x[1] != float('-inf'))"
      ],
      "metadata": {
        "id": "QSiPYasJo_u-"
      },
      "execution_count": 8,
      "outputs": []
    },
    {
      "cell_type": "markdown",
      "source": [
        "Now we have the count of mutual friends for each user pair.\n",
        "\n",
        "We now format the RDD to [user, count of mutual friends with other users)\n",
        "\n",
        "And then rank the list taking top 10"
      ],
      "metadata": {
        "id": "HCimbSfZruus"
      }
    },
    {
      "cell_type": "code",
      "source": [
        "recommendations = mutual_friend_count.flatMap(\n",
        "    lambda x: [(x[0][0], (x[0][1], x[1])), (x[0][1], (x[0][0], x[1]))]\n",
        ").groupByKey()\n",
        "top_recommendations = recommendations.map(\n",
        "    lambda x: (x[0], sorted(x[1], key=lambda pair: pair[1], reverse=True)[:10])\n",
        ")"
      ],
      "metadata": {
        "id": "WK4xtZqEln1y"
      },
      "execution_count": 12,
      "outputs": []
    },
    {
      "cell_type": "markdown",
      "source": [
        "Format the output to satisfy the format requirements:"
      ],
      "metadata": {
        "id": "oqR0zdgD18Zf"
      }
    },
    {
      "cell_type": "code",
      "source": [
        "def format_output(user_recs):\n",
        "    user, recs = user_recs\n",
        "    return f\"{user}\\t{','.join([str(rec[0]) for rec in recs])}\"\n",
        "\n",
        "output = top_recommendations.map(format_output)\n",
        "output.saveAsTextFile(\"Assignment3_Chang\")"
      ],
      "metadata": {
        "id": "ojIqhrLFqSeW"
      },
      "execution_count": 57,
      "outputs": []
    },
    {
      "cell_type": "markdown",
      "source": [
        "Test if the results are correct:\n",
        "\n",
        "I first printed out the top 10 but is not exact the same as the result given in our assignment requirements.\n",
        "\n",
        "Therefore I printed out the top 20 recommendations, to find out there are multiple users with same amount of mutual friends and my algorithm is correct but the result can be different while equally satisfy the requirement of the assignment."
      ],
      "metadata": {
        "id": "0GrRF7FOoc5U"
      }
    },
    {
      "cell_type": "code",
      "source": [
        "recommendations = mutual_friend_count.flatMap(\n",
        "    lambda x: [(x[0][0], (x[0][1], x[1])), (x[0][1], (x[0][0], x[1]))]\n",
        ").groupByKey()\n",
        "top_recommendations = recommendations.map(\n",
        "    lambda x: (x[0], sorted(x[1], key=lambda pair: pair[1], reverse=True)[:20])\n",
        ")\n",
        "\n",
        "user_ids = [11]\n",
        "\n",
        "specific_user_recommendations = top_recommendations.filter(lambda x: x[0] in user_ids)\n",
        "\n",
        "results = specific_user_recommendations.collect()\n",
        "\n",
        "for user, recs in results:\n",
        "  print(f\"User {user}: {', '.join([str(rec[0]) + '-' + str(rec[1]) for rec in recs])}\")"
      ],
      "metadata": {
        "colab": {
          "base_uri": "https://localhost:8080/"
        },
        "id": "HnaoqhgAobGD",
        "outputId": "b321d048-0fd8-43e9-8d6c-0b54e1ba9ced"
      },
      "execution_count": 11,
      "outputs": [
        {
          "output_type": "stream",
          "name": "stdout",
          "text": [
            "User 11: 27552-4, 27667-3, 27620-3, 33192-3, 32072-3, 27600-3, 27617-3, 27573-3, 7785-3, 27589-3, 27574-3, 27590-3, 27587-2, 27555-2, 27655-2, 27583-2, 35451-2, 25195-2, 10-2, 12-2\n"
          ]
        }
      ]
    },
    {
      "cell_type": "markdown",
      "source": [
        "Lastly, I am printing out the results for the list of user ids.\n",
        "\n",
        "Considering it's quite common for recommended users to have same amount of mutual friends, I don't think there is one only correct answer for the top 10."
      ],
      "metadata": {
        "id": "ExxmFMSvlgPU"
      }
    },
    {
      "cell_type": "code",
      "source": [
        "user_ids = [924, 8941, 8942, 9019, 9020, 9021, 9022, 9990, 9992, 9993]\n",
        "\n",
        "# Filter the final_recommendations for specific user IDs\n",
        "specific_user_recommendations = top_recommendations.filter(lambda x: x[0] in user_ids)\n",
        "\n",
        "# Collect the results\n",
        "results = specific_user_recommendations.collect()\n",
        "\n",
        "# Print the recommendations\n",
        "for user, recs in results:\n",
        "    print(f\"User {user}: {','.join([str(rec[0]) for rec in recs])}\")"
      ],
      "metadata": {
        "colab": {
          "base_uri": "https://localhost:8080/"
        },
        "id": "VA2h9UTSkvM2",
        "outputId": "2750f041-b89c-4cd2-f055-c99dd0376fdb"
      },
      "execution_count": 13,
      "outputs": [
        {
          "output_type": "stream",
          "name": "stdout",
          "text": [
            "User 9020: 9021,9022,9016,9017,317,9023\n",
            "User 9992: 9987,9989,35667,9991\n",
            "User 924: 45881,439,2409,15416,11860,43748,6995\n",
            "User 9021: 9020,9017,9022,9016,317,9023\n",
            "User 9993: 9991,13877,34485,37941,13134,13478,34642,34299\n",
            "User 8941: 8943,8944,8940\n",
            "User 8942: 8939,8940,8944,8943\n",
            "User 9022: 9020,9021,9019,9016,9017,9023,317\n",
            "User 9990: 34299,13134,13478,34642,13877,34485,37941\n",
            "User 9019: 9022,9023,317\n"
          ]
        }
      ]
    },
    {
      "cell_type": "code",
      "source": [],
      "metadata": {
        "id": "sGezoJ4XlksM"
      },
      "execution_count": null,
      "outputs": []
    }
  ],
  "metadata": {
    "colab": {
      "provenance": []
    },
    "kernelspec": {
      "display_name": "Python 3",
      "name": "python3"
    }
  },
  "nbformat": 4,
  "nbformat_minor": 0
}